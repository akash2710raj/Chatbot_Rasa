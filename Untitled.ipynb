{
 "cells": [
  {
   "cell_type": "code",
   "execution_count": 27,
   "metadata": {
    "tags": []
   },
   "outputs": [],
   "source": [
    "import json\n",
    "with open('batch.json') as fp:\n",
    "    data = json.load(fp)"
   ]
  },
  {
   "cell_type": "code",
   "execution_count": 37,
   "metadata": {
    "tags": []
   },
   "outputs": [
    {
     "output_type": "execute_result",
     "data": {
      "text/plain": "{'faculty_name1': 'Mr. Akash Raj',\n 'next_batch1': 'August 31,2020',\n 'topic1': 'intro 1',\n 'faculty_name2': 'Mr. Anand Raj',\n 'next_batch2': 'August 15,2020',\n 'topic2': 'intro 2',\n 'faculty_name3': 'Mr. Manoj Raj',\n 'next_batch3': 'August 31,2020',\n 'topic3': 'intro 3',\n 'link1': 'https://www.w3schools.com/python/',\n 'link2': 'https://www.w3schools.com/python/',\n 'link3': 'https://www.w3schools.com/python/'}"
     },
     "metadata": {},
     "execution_count": 37
    }
   ],
   "source": [
    "data.get('service').get(\"tbl\").get(\"python\").get(\"basic\").get(\"introduction\")"
   ]
  },
  {
   "cell_type": "code",
   "execution_count": 24,
   "metadata": {
    "tags": []
   },
   "outputs": [
    {
     "output_type": "stream",
     "name": "stdout",
     "text": "intro pyt\nd types pyt\n"
    }
   ],
   "source": [
    "for topic in data.get('service').get('basic').get('python'):\n",
    "        print(topic)"
   ]
  },
  {
   "cell_type": "code",
   "execution_count": 2,
   "metadata": {},
   "outputs": [],
   "source": [
    "from rasa_sdk.events import UserUttered"
   ]
  },
  {
   "cell_type": "code",
   "execution_count": null,
   "metadata": {},
   "outputs": [],
   "source": [
    "from typing import Any, Text, Dict, List\n",
    "\n",
    "from rasa_sdk import Action, Tracker\n",
    "from rasa_sdk.executor import CollectingDispatcher\n",
    "import json\n",
    "from rasa_sdk.events import UserUttered\n",
    "\n",
    "\n",
    "class ActionFallback(Action):\n",
    "\n",
    "    def name(self):\n",
    "        return \"action_fallback\"\n",
    "\n",
    "    def run(self, dispatcher, tracker, domain):\n",
    "        dispatcher.utter_message(\"Sorry, I couldn't understand. Can you rephrase it?\")\n",
    "\n",
    "        \n",
    "class ActionCoding(Action):\n",
    "\n",
    "    def name(self):\n",
    "        return \"action_coding\"\n",
    "\n",
    "    def run(self, dispatcher, tracker, domain):\n",
    "        dispatcher.utter_message(template='utter_coding')"
   ]
  },
  {
   "cell_type": "code",
   "execution_count": 1,
   "metadata": {},
   "outputs": [],
   "source": [
    "from typing import Any, Text, Dict, List\n",
    "\n",
    "from rasa_sdk import Action, Tracker\n",
    "from rasa_sdk.executor import CollectingDispatcher\n",
    "import json\n",
    "from rasa_sdk.events import UserUttered"
   ]
  },
  {
   "cell_type": "code",
   "execution_count": 5,
   "metadata": {},
   "outputs": [
    {
     "ename": "TypeError",
     "evalue": "UserUttered() got an unexpected keyword argument 'intent'",
     "output_type": "error",
     "traceback": [
      "\u001b[0;31m---------------------------------------------------------------------------\u001b[0m",
      "\u001b[0;31mTypeError\u001b[0m                                 Traceback (most recent call last)",
      "\u001b[0;32m<ipython-input-5-b95cd040835b>\u001b[0m in \u001b[0;36m<module>\u001b[0;34m\u001b[0m\n\u001b[0;32m----> 1\u001b[0;31m \u001b[0mUserUttered\u001b[0m\u001b[0;34m(\u001b[0m\u001b[0mtext\u001b[0m\u001b[0;34m=\u001b[0m\u001b[0;34m'/coding'\u001b[0m\u001b[0;34m,\u001b[0m\u001b[0mintent\u001b[0m \u001b[0;34m=\u001b[0m \u001b[0;34m{\u001b[0m\u001b[0;34m\"name\"\u001b[0m\u001b[0;34m:\u001b[0m \u001b[0;34m\"coding\"\u001b[0m\u001b[0;34m,\u001b[0m \u001b[0;34m\"confidence\"\u001b[0m\u001b[0;34m:\u001b[0m \u001b[0;36m1.0\u001b[0m\u001b[0;34m}\u001b[0m\u001b[0;34m)\u001b[0m\u001b[0;34m\u001b[0m\u001b[0;34m\u001b[0m\u001b[0m\n\u001b[0m",
      "\u001b[0;31mTypeError\u001b[0m: UserUttered() got an unexpected keyword argument 'intent'"
     ]
    }
   ],
   "source": [
    "UserUttered(text='/coding')"
   ]
  },
  {
   "cell_type": "code",
   "execution_count": 2,
   "metadata": {},
   "outputs": [],
   "source": [
    "dispatcher = CollectingDispatcher()"
   ]
  },
  {
   "cell_type": "code",
   "execution_count": 3,
   "metadata": {},
   "outputs": [
    {
     "name": "stderr",
     "output_type": "stream",
     "text": [
      "/srv/conda/envs/notebook/lib/python3.7/site-packages/rasa_sdk/executor.py:78: FutureWarning: Use of `utter_button_message` is deprecated. Use `utter_message(text=<text> , buttons=<list of buttons>)` instead.\n",
      "  FutureWarning,\n"
     ]
    }
   ],
   "source": [
    "dispatcher.utter_button_message(text='Hi',buttons=[{'Coding','/coding'}])"
   ]
  },
  {
   "cell_type": "code",
   "execution_count": 4,
   "metadata": {},
   "outputs": [],
   "source": [
    "dispatcher.utter_message(text = 'Hi',buttons=[{'Coding','/coding'},{'eating','/eating'}])"
   ]
  },
  {
   "cell_type": "code",
   "execution_count": 5,
   "metadata": {},
   "outputs": [],
   "source": [
    "import time"
   ]
  },
  {
   "cell_type": "code",
   "execution_count": null,
   "metadata": {},
   "outputs": [],
   "source": [
    "time.sleep()"
   ]
  },
  {
   "cell_type": "code",
   "execution_count": null,
   "metadata": {},
   "outputs": [],
   "source": []
  },
  {
   "cell_type": "code",
   "execution_count": null,
   "metadata": {},
   "outputs": [],
   "source": []
  },
  {
   "cell_type": "code",
   "execution_count": 2,
   "metadata": {},
   "outputs": [
    {
     "output_type": "error",
     "ename": "OperationalError",
     "evalue": "table User already exists",
     "traceback": [
      "\u001b[1;31m---------------------------------------------------------------------------\u001b[0m",
      "\u001b[1;31mOperationalError\u001b[0m                          Traceback (most recent call last)",
      "\u001b[1;32m<ipython-input-2-ea76702b39ac>\u001b[0m in \u001b[0;36m<module>\u001b[1;34m\u001b[0m\n\u001b[0;32m     11\u001b[0m          \u001b[0mPHONENUMBER\u001b[0m    \u001b[0mTEXT\u001b[0m    \u001b[0mNOT\u001b[0m \u001b[0mNULL\u001b[0m\u001b[1;33m,\u001b[0m\u001b[1;33m\u001b[0m\u001b[1;33m\u001b[0m\u001b[0m\n\u001b[0;32m     12\u001b[0m          \u001b[0mDATE\u001b[0m           \u001b[0mTEXT\u001b[0m    \u001b[0mNOT\u001b[0m \u001b[0mNULL\u001b[0m\u001b[1;33m,\u001b[0m\u001b[1;33m\u001b[0m\u001b[1;33m\u001b[0m\u001b[0m\n\u001b[1;32m---> 13\u001b[1;33m          SERVICES       TEXT    NOT NULL);''')\n\u001b[0m\u001b[0;32m     14\u001b[0m \u001b[0mconn\u001b[0m\u001b[1;33m.\u001b[0m\u001b[0mcommit\u001b[0m\u001b[1;33m(\u001b[0m\u001b[1;33m)\u001b[0m\u001b[1;33m\u001b[0m\u001b[1;33m\u001b[0m\u001b[0m\n",
      "\u001b[1;31mOperationalError\u001b[0m: table User already exists"
     ]
    }
   ],
   "source": [
    "import sqlite3\n",
    "\n",
    "conn = sqlite3.connect('data.db')\n",
    "# conn = \n",
    "cursor = conn.cursor()\n",
    "\n",
    "cursor.execute('''CREATE TABLE User\n",
    "         (ID INTEGER PRIMARY KEY AUTOINCREMENT,\n",
    "         NAME           TEXT    NOT NULL,\n",
    "         EMAIL          TEXT    NOT NULL,\n",
    "         PHONENUMBER    TEXT    NOT NULL,\n",
    "         DATE           TEXT    NOT NULL,\n",
    "         SERVICES       TEXT    NOT NULL);''')\n",
    "conn.commit()"
   ]
  },
  {
   "cell_type": "code",
   "execution_count": 6,
   "metadata": {},
   "outputs": [],
   "source": [
    "import datetime"
   ]
  },
  {
   "cell_type": "code",
   "execution_count": 7,
   "metadata": {},
   "outputs": [
    {
     "output_type": "execute_result",
     "data": {
      "text/plain": "'07-08-2020 01:18:22'"
     },
     "metadata": {},
     "execution_count": 7
    }
   ],
   "source": [
    "str(datetime.datetime.now().strftime('%d-%m-%Y %H:%M:%S'))"
   ]
  },
  {
   "cell_type": "code",
   "execution_count": 1,
   "metadata": {},
   "outputs": [
    {
     "output_type": "error",
     "ename": "NameError",
     "evalue": "name 'cursor' is not defined",
     "traceback": [
      "\u001b[1;31m---------------------------------------------------------------------------\u001b[0m",
      "\u001b[1;31mNameError\u001b[0m                                 Traceback (most recent call last)",
      "\u001b[1;32m<ipython-input-1-0f45278b28bd>\u001b[0m in \u001b[0;36m<module>\u001b[1;34m\u001b[0m\n\u001b[0;32m      6\u001b[0m \u001b[1;33m\u001b[0m\u001b[0m\n\u001b[0;32m      7\u001b[0m \u001b[1;33m\u001b[0m\u001b[0m\n\u001b[1;32m----> 8\u001b[1;33m \u001b[0mcursor\u001b[0m\u001b[1;33m.\u001b[0m\u001b[0mexecute\u001b[0m\u001b[1;33m(\u001b[0m\u001b[1;34mf'''INSERT INTO User (NAME,EMAIL,PHONENUMBER,DATE,SERVICES) VALUES (?,?,?,?,?)'''\u001b[0m\u001b[1;33m,\u001b[0m\u001b[1;33m(\u001b[0m\u001b[0mname\u001b[0m\u001b[1;33m,\u001b[0m\u001b[0memail\u001b[0m\u001b[1;33m,\u001b[0m\u001b[0mphonenumber\u001b[0m\u001b[1;33m,\u001b[0m\u001b[0mdate\u001b[0m\u001b[1;33m,\u001b[0m \u001b[0mservice\u001b[0m\u001b[1;33m,\u001b[0m\u001b[1;33m)\u001b[0m\u001b[1;33m)\u001b[0m\u001b[1;33m\u001b[0m\u001b[1;33m\u001b[0m\u001b[0m\n\u001b[0m",
      "\u001b[1;31mNameError\u001b[0m: name 'cursor' is not defined"
     ]
    }
   ],
   "source": [
    "name = 'uday'\n",
    "email = 'uday@gmail.com'\n",
    "date = 'jfd'\n",
    "service = 'jajaj'\n",
    "phonenumber = '+91 9695049623'\n",
    "\n",
    "\n",
    "cursor.execute(f'''INSERT INTO User (NAME,EMAIL,PHONENUMBER,DATE,SERVICES) VALUES (?,?,?,?,?)''',(name,email,phonenumber,date, service,))"
   ]
  },
  {
   "cell_type": "code",
   "execution_count": 21,
   "metadata": {},
   "outputs": [],
   "source": [
    "conn.commit()"
   ]
  },
  {
   "cell_type": "code",
   "execution_count": 3,
   "metadata": {},
   "outputs": [],
   "source": [
    "import sqlite3\n",
    "conn = sqlite3.connect('data.db')\n",
    "\n",
    "cursor = conn.cursor()\n",
    "cursor.execute('SELECT * FROM User')\n",
    "results = cursor.fetchall()"
   ]
  },
  {
   "cell_type": "code",
   "execution_count": 14,
   "metadata": {},
   "outputs": [],
   "source": [
    "conn.commit()"
   ]
  },
  {
   "cell_type": "code",
   "execution_count": 4,
   "metadata": {
    "tags": []
   },
   "outputs": [
    {
     "output_type": "stream",
     "name": "stdout",
     "text": "(1, 'uday', 'uday@gmail.com', '+91 9695049623', 'jfd', 'jajaj')\n(2, 'uday', 'uday@gmail.com', '+91 9695049623', 'jfd', 'jajaj')\n(3, 'akash', 'haha@hh.com', '74854785', '10-08-2020 13:00:17', 'coding')\n(4, 'akash', 'hhh@hhh.com', '4563219870', '10-08-2020 13:05:33', 'writng')\n(5, 'Akash', 'akash@gmail.com', '+91 7658475874', '10-08-2020 13:36:22', 'coding')\n(6, 'akash', 'aja@hh.com', '7854120321', '10-08-2020 13:38:24', 'coding')\n(7, 'akash', 'aja@hh.com', '7854120321', '10-08-2020 13:39:14', 'coding')\n(8, 'akash', 'aja@hh.com', '7854120321', '10-08-2020 13:40:45', 'coding')\n(9, 'akash', 'aja@hh.com', '7854120321', '10-08-2020 13:42:08', 'coding')\n(10, 'akash', 'aja@hh.com', '7854120321', '10-08-2020 13:44:30', 'writng')\n(11, 'akash', 'aja@hjj.com', '780000', '10-08-2020 14:02:01', 'writng')\n(12, 'udayy', 'aaz@ddc.bnm', '0121201200', '10-08-2020 14:04:11', 'coding')\n(13, 'akazhh', 'bhdbhcbhd@aaa.com', '74108520410520', '10-08-2020 14:06:38', 'pbl')\n(14, 'akash', 'alask@hgaj.com', '7412589632', '10-08-2020 17:30:38', 'coding')\n(15, 'akash', 'akasj@hamil.com', '7412587458', '10-08-2020 17:39:06', 'writng')\n(16, 'ajash', 'akash@gmail.com', '78965474587', '10-08-2020 17:46:53', 'coding')\n(17, 'ajash', 'akash@gmail.com', '78965474587', '10-08-2020 17:47:16', 'writng')\n(18, 'akash', 'akah@risingroot.com', '789654114', '10-08-2020 17:50:23', 'writng')\n(19, 'akash', 'akah@risingroot.com', '789654114', '10-08-2020 17:50:38', 'writng')\n(20, 'akash', 'asdsssc@gmail.com', '7418529630', '10-08-2020 17:51:24', 'pbl')\n(21, 'akash', 'asdsssc@gmail.com', '7418529630', '10-08-2020 17:51:52', 'pbl')\n(22, 'akash', 'akaash@gmail.com', '1547896546', '11-08-2020 10:04:49', 'tbl')\n(23, 'akash', 'akash@ahasj.com', '7854785474', '11-08-2020 11:56:18', 'tbl')\n(24, 'ajash', 'ajsnjj@njnj.com', '7896544755', '11-08-2020 11:58:11', 'tbl')\n(25, 'ajash', 'ajsnjj@njnj.com', '789654785', '11-08-2020 12:03:48', 'tbl')\n(26, 'aksh', 'akasj@jjj.com', '741852096320', '11-08-2020 12:12:23', 'tbl')\n(27, 'aksh', 'bhbjd@bhb.com', '79845123541', '11-08-2020 12:14:06', 'tbl')\n(28, 'aksh', 'bhbjd@bhb.com', '79845123541', '11-08-2020 12:18:11', 'coding')\n(29, 'aksh', 'bhbjd@bhb.com', '79845123541', '11-08-2020 12:18:30', 'tbl')\n(30, 'aksh', 'bhbjd@bhb.com', '79845123541', '11-08-2020 12:30:11', 'tbl')\n(31, 'aksh', 'bhbjd@bhb.com', '79845123541', '11-08-2020 12:31:44', 'tbl')\n(32, 'aksh', 'bhbjd@bhb.com', '79845123541', '11-08-2020 12:36:42', 'tbl')\n(33, 'aksh', 'bhbjd@bhb.com', '79845123541', '11-08-2020 12:46:55', 'tbl')\n(34, 'akash', 'j@h.com', '7445545', '11-08-2020 13:12:53', 'coding')\n(35, 'akash', 'akak@kk.com', '7896547854', '11-08-2020 13:13:36', 'tbl')\n(36, 'akash', 'akash2710raj@gmail.com', '7675047324', '11-08-2020 13:17:05', 'tbl')\n(37, 'uday', 'uday@gmail.com', '9658742310', '11-08-2020 14:26:23', 'tbl')\n(38, 'akash', 'akash@gmail.com', '7896547856', '11-08-2020 14:30:29', 'tbl')\n(39, 'akasj', 'ghvty@nhjbvf.com', '510415020', '11-08-2020 14:34:36', 'tbl')\n(40, 'akash', 'akash@gmail.com', '74857454', '11-08-2020 14:37:24', 'tbl')\n(41, 'akash', 'akash@gmail,cp', '784555', '11-08-2020 14:46:47', 'tbl')\n(42, 'akash', 'asdf@asdf.com', '9685741452', '11-08-2020 14:55:26', 'tbl')\n(43, 'akash', 'akash@hhf.com', '78547414', '11-08-2020 15:02:53', 'tbl')\n(44, 'akash', 'akash@hnmil.com', '7412589632', '11-08-2020 15:04:27', 'tbl')\n(45, 'akash', 'akash@gmail.com', '7896547458', '11-08-2020 15:05:50', 'tbl')\n(46, 'akash', 'akasj@h.com', '7418529630', '11-08-2020 15:08:00', 'tbl')\n(47, 'akash', 'akash@gmail.com', '78569457458', '11-08-2020 15:11:13', 'tbl')\n(48, 'akash', 'aksh@gmail.com', '78854745745', '11-08-2020 15:14:38', 'tbl')\n(49, 'akash', 'aka@kk.com', '1', '11-08-2020 15:17:11', 'tbl')\n(50, 'akash', 'akash@a.com', '4785474', '11-08-2020 15:20:04', 'tbl')\n(51, 'akash', 'a@a.com', '2', '11-08-2020 15:21:49', 'tbl')\n(52, 'akash', 's@s.com', '3', '11-08-2020 15:25:57', 'tbl')\n(53, 'akash', 'a@a.com', '4', '11-08-2020 15:29:12', 'tbl')\n(54, 'akash', 'a@a.com', '5', '11-08-2020 15:31:12', 'tbl')\n(55, 'akash', 'a@a.com', '6', '11-08-2020 15:40:00', 'tbl')\n(56, 'akash', 'a@a.com', '7', '11-08-2020 15:41:45', 'tbl')\n(57, 'akash', 'a@a.com', '8', '11-08-2020 15:44:06', 'tbl')\n(58, 'akash', 'a@a.com', '5', '11-08-2020 15:58:11', 'tbl')\n(59, 'akash', 'a@a.com', '9', '11-08-2020 16:03:34', 'tbl')\n(60, 'akash', 'a@a.com', '3', '11-08-2020 20:15:22', 'tbl')\n(61, 'akash', 'a@a.com', '3', '11-08-2020 20:16:32', 'tbl')\n(62, 'akash', 'akash@gmail.com', '74854547', '11-08-2020 21:03:36', 'coding')\n(63, 'akash', 'akash@gmail.com', '74854547', '11-08-2020 21:04:43', 'writng')\n(64, 'akash', 'akash@gmail.com', '74854547', '11-08-2020 21:05:12', 'pbl')\n(65, 'akash', 'akash@gmail.com', '74854547', '11-08-2020 21:06:04', 'tbl')\n(66, 'akash', 'akash@gmail.com', '7854000000', '13-08-2020 10:57:26', 'tbl')\n(67, 'akash', 'akash@fmail.com', '7400000014', '13-08-2020 11:04:09', 'tbl')\n(68, 'akash', 'akash@fmail.com', '7400000014', '13-08-2020 11:10:54', 'writng')\n"
    }
   ],
   "source": [
    "for result in results:\n",
    "    print(result)"
   ]
  },
  {
   "cell_type": "code",
   "execution_count": 25,
   "metadata": {},
   "outputs": [],
   "source": [
    "import datetime"
   ]
  },
  {
   "cell_type": "code",
   "execution_count": 26,
   "metadata": {},
   "outputs": [
    {
     "output_type": "execute_result",
     "data": {
      "text/plain": "datetime.datetime(2020, 8, 9, 16, 29, 25, 171473)"
     },
     "metadata": {},
     "execution_count": 26
    }
   ],
   "source": [
    "datetime.datetime.now()"
   ]
  },
  {
   "cell_type": "code",
   "execution_count": 7,
   "metadata": {},
   "outputs": [
    {
     "name": "stdout",
     "output_type": "stream",
     "text": [
      "01-08-2020 12:09:38\n"
     ]
    }
   ],
   "source": [
    "from datetime import datetime\n",
    "import pytz\n",
    "print(datetime.now(pytz.timezone('Asia/Kolkata')).strftime('%d-%m-%Y %H:%M:%S'))"
   ]
  },
  {
   "cell_type": "code",
   "execution_count": 5,
   "metadata": {},
   "outputs": [
    {
     "name": "stdout",
     "output_type": "stream",
     "text": [
      "Requirement already satisfied: pytz in /srv/conda/envs/notebook/lib/python3.7/site-packages (2019.3)\n"
     ]
    }
   ],
   "source": [
    "!pip install pytz"
   ]
  },
  {
   "cell_type": "code",
   "execution_count": null,
   "metadata": {},
   "outputs": [],
   "source": []
  }
 ],
 "metadata": {
  "kernelspec": {
   "display_name": "Python 3",
   "language": "python",
   "name": "python3"
  },
  "language_info": {
   "codemirror_mode": {
    "name": "ipython",
    "version": 3
   },
   "file_extension": ".py",
   "mimetype": "text/x-python",
   "name": "python",
   "nbconvert_exporter": "python",
   "pygments_lexer": "ipython3",
   "version": "3.7.6"
  }
 },
 "nbformat": 4,
 "nbformat_minor": 4
}